{
 "cells": [
  {
   "cell_type": "markdown",
   "id": "ab4b2125",
   "metadata": {},
   "source": [
    "# Survey sample comments\n",
    "\n",
    "An optional free text area is at the end of the survey.\n",
    "We ask:\n",
    "> Do you have any extra comments? Was anything unclear? (optional)"
   ]
  },
  {
   "cell_type": "code",
   "execution_count": 2,
   "id": "6a14ee4a",
   "metadata": {},
   "outputs": [],
   "source": [
    "import numpy as np\n",
    "import pandas as pd"
   ]
  },
  {
   "cell_type": "code",
   "execution_count": 4,
   "id": "48dc2784",
   "metadata": {},
   "outputs": [],
   "source": [
    "sample_df = pd.read_csv('../data/sample-preprocessed.csv')"
   ]
  },
  {
   "cell_type": "code",
   "execution_count": 5,
   "id": "6b1bc78e",
   "metadata": {},
   "outputs": [
    {
     "name": "stdout",
     "output_type": "stream",
     "text": [
      "\"no \"\n",
      "\n",
      "\"I don't think I would really have privacy in any of these scenarios, considering data mining through websites, apps, credit cards, etc.\"\n",
      "\n",
      "\"all clear!\"\n",
      "\n",
      "\"It was an interesting survey. \"\n",
      "\n",
      "\"No\"\n",
      "\n",
      "\"no extra comments\"\n",
      "\n",
      "\"No comments, no issues\"\n",
      "\n",
      "\"None\"\n",
      "\n",
      "\"great survey!\"\n",
      "\n",
      "\"Everything was great. I just wanted to point out that I chose ground delivery most of the time because people's livelihoods depend on those jobs. I would rather pay a little more or wait a little longer in most cases if it means that someone is able to earn an income delivering to myself and others.\"\n",
      "\n",
      "\"No thank you for the survey\"\n",
      "\n",
      "\"interesting survey, really enjoyed\"\n",
      "\n"
     ]
    }
   ],
   "source": [
    "# Do you have any extra comments? Was anything unclear? (optional)\n",
    "comments = sample_df.set_index('ResponseId')['Q_comments'].rename('comments').dropna()\n",
    "for c in comments.to_list():\n",
    "    print('\"%s\"\\n'%c)"
   ]
  },
  {
   "cell_type": "code",
   "execution_count": null,
   "id": "fab5c2fc",
   "metadata": {},
   "outputs": [],
   "source": []
  }
 ],
 "metadata": {
  "kernelspec": {
   "display_name": "drones-venv",
   "language": "python",
   "name": "drones-venv"
  },
  "language_info": {
   "codemirror_mode": {
    "name": "ipython",
    "version": 3
   },
   "file_extension": ".py",
   "mimetype": "text/x-python",
   "name": "python",
   "nbconvert_exporter": "python",
   "pygments_lexer": "ipython3",
   "version": "3.7.1"
  }
 },
 "nbformat": 4,
 "nbformat_minor": 5
}
